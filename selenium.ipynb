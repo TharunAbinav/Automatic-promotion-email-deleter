{
 "cells": [
  {
   "cell_type": "code",
   "execution_count": 132,
   "id": "ca6fe492",
   "metadata": {},
   "outputs": [],
   "source": [
    "import os\n",
    "os.environ['PATH'] +=r\"chromedriver.exe\"#add the path to chrome\n",
    "from selenium import webdriver\n",
    "from selenium.webdriver.chrome.service import Service\n",
    "import time\n",
    "from selenium.webdriver.common.by import By\n",
    "from selenium. webdriver. common. keys import Keys\n",
    "from selenium.webdriver.support.ui import WebDriverWait\n",
    "from selenium.webdriver.support import expected_conditions as EC\n",
    "import pyautogui"
   ]
  },
  {
   "cell_type": "code",
   "execution_count": 140,
   "id": "46710377",
   "metadata": {},
   "outputs": [],
   "source": [
    "service = Service(executable_path=\"chromedriver.exe\")\n",
    "driver = webdriver.Chrome(service=service)\n",
    "driver.get(\"https://gmail.com\")\n",
    "#pyautogui.moveTo(1229,1166,1)\n",
    "#pyautogui.click()\n",
    "\n",
    "inputelement=driver.find_element(By.ID,\"identifierId\")\n",
    "inputelement.send_keys(\"ENTER YOUR EMAIL\"+ Keys.ENTER) #Enter the desired email\n",
    "\n",
    "passwd=WebDriverWait(driver,5).until(EC.presence_of_element_located((By.NAME,\"Passwd\")))\n",
    "passwd.send_keys(\"ENTER YOUR PASSWORD\"+ Keys.ENTER) #Enter your email password\n",
    "\n",
    "draft=WebDriverWait(driver,10).until(EC.presence_of_element_located((By.CLASS_NAME,\"CJ\")))\n",
    "draft.click()\n",
    "#enter the mouse location according to your PC screen might change with respective to your PC\n", 
    "\n",
    "pyautogui.click(1226,36)\n",
    "\n",
    "pyautogui.click(200,811)\n",
    "\n",
    "pyautogui.click(206,966)\n",
    "\n",
    "pyautogui.click(439,291)\n",
    "\n",
    "pyautogui.click(621,280)\n",
    "\n",
    "time.sleep(2)\n",
    "driver.quit()"
   ]
  },
  {
   "cell_type": "code",
   "execution_count": null,
   "id": "177d2a70",
   "metadata": {},
   "outputs": [],
   "source": []
  }
 ],
 "metadata": {
  "kernelspec": {
   "display_name": "Python 3 (ipykernel)",
   "language": "python",
   "name": "python3"
  },
  "language_info": {
   "codemirror_mode": {
    "name": "ipython",
    "version": 3
   },
   "file_extension": ".py",
   "mimetype": "text/x-python",
   "name": "python",
   "nbconvert_exporter": "python",
   "pygments_lexer": "ipython3",
   "version": "3.11.5"
  }
 },
 "nbformat": 4,
 "nbformat_minor": 5
}
